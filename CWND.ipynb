{
  "nbformat": 4,
  "nbformat_minor": 0,
  "metadata": {
    "colab": {
      "name": "CWND.ipynb",
      "provenance": [],
      "collapsed_sections": [],
      "authorship_tag": "ABX9TyNr8TCgVqtDkSVFJDmNWfZ/",
      "include_colab_link": true
    },
    "kernelspec": {
      "name": "python3",
      "display_name": "Python 3"
    }
  },
  "cells": [
    {
      "cell_type": "markdown",
      "metadata": {
        "id": "view-in-github",
        "colab_type": "text"
      },
      "source": [
        "<a href=\"https://colab.research.google.com/github/malin1024/Python_projects_0/blob/master/CWND.ipynb\" target=\"_parent\"><img src=\"https://colab.research.google.com/assets/colab-badge.svg\" alt=\"Open In Colab\"/></a>"
      ]
    },
    {
      "cell_type": "code",
      "metadata": {
        "id": "PBgZDAtif4ux"
      },
      "source": [
        "from random import randrange\r\n",
        "\r\n",
        "num_packets = 10000\r\n",
        "drop_rate = 1 # In%\r\n",
        "\r\n",
        "ss_thresh = 64*1024\r\n",
        "mss = 1500\r\n",
        "cwnd = 1*1500\r\n",
        "slow_start = 1\r\n",
        "\r\n",
        "cwnd_arr = []"
      ],
      "execution_count": null,
      "outputs": []
    },
    {
      "cell_type": "code",
      "metadata": {
        "colab": {
          "base_uri": "https://localhost:8080/"
        },
        "id": "xB-JRVBGgEDX",
        "outputId": "93c23c06-65b5-4b52-9d6c-9f689fa957b4"
      },
      "source": [
        "drop_cnt = 0\r\n",
        "\r\n",
        "for i in range(num_packets):\r\n",
        "  # new packet\r\n",
        "  if(( 100*random.random() ) > drop_rate):\r\n",
        "    # packet arrived and acked\r\n",
        "    if slow_start:\r\n",
        "      cwnd = cwnd * 2\r\n",
        "    else:\r\n",
        "      cwnd = cwnd + mss\r\n",
        "  else:\r\n",
        "    # assuming fast-RT\r\n",
        "    cwnd = cwnd / 2\r\n",
        "  cwnd_arr.append(cwnd)\r\n",
        "\r\n",
        "\r\n",
        "print(drop_cnt/num_packets)"
      ],
      "execution_count": null,
      "outputs": [
        {
          "output_type": "stream",
          "text": [
            "0.199\n"
          ],
          "name": "stdout"
        }
      ]
    },
    {
      "cell_type": "code",
      "metadata": {
        "id": "xG07Mjm4wmQw"
      },
      "source": [
        "p1 = figure(\r\n",
        "    #x_axis_type=\"packet index\",\r\n",
        "    title=\"New Reno CWND\",\r\n",
        "    plot_width=num_packets,\r\n",
        "    plot_height=200\r\n",
        "  )\r\n",
        "p1.grid.grid_line_alpha=0.3\r\n",
        "p1.xaxis.axis_label = 'Packet index'\r\n",
        "p1.yaxis.axis_label = 'CWND'\r\n",
        "\r\n",
        "p1.line(\r\n",
        "    _datetime_to_numpy(BA_data.index),\r\n",
        "    BA_data['Close'],\r\n",
        "    color='#A6CEE3',\r\n",
        "    legend_label=BA['symbol']\r\n",
        "  )\r\n",
        "p1.legend.location = \"top_left\"\r\n",
        "\r\n",
        "output_notebook()\r\n",
        "show(p1)"
      ],
      "execution_count": null,
      "outputs": []
    }
  ]
}